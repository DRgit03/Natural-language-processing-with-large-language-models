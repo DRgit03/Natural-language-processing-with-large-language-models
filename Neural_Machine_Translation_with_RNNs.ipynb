{
  "cells": [
    {
      "cell_type": "code",
      "execution_count": 136,
      "metadata": {
        "id": "C24JKO7LxP3O"
      },
      "outputs": [],
      "source": [
        "import tensorflow as tf### models\n",
        "import numpy as np### math computations\n",
        "import matplotlib.pyplot as plt### plotting bar chart\n",
        "import sklearn### machine learning library\n",
        "import cv2## image processing\n",
        "from sklearn.metrics import confusion_matrix, roc_curve### metrics\n",
        "import seaborn as sns### visualizations\n",
        "import datetime\n",
        "import pathlib\n",
        "import io\n",
        "import os\n",
        "import re\n",
        "import string\n",
        "import time\n",
        "from numpy import random\n",
        "import tensorflow_datasets as tfds\n",
        "import tensorflow_probability as tfp\n",
        "from tensorflow.keras.models import Model\n",
        "from tensorflow.keras.layers import Layer\n",
        "from tensorflow.keras.layers import (Dense,Flatten,SimpleRNN,InputLayer,Conv1D,Bidirectional,GRU,LSTM,BatchNormalization,Dropout,Input, Embedding,TextVectorization)\n",
        "from tensorflow.keras.losses import BinaryCrossentropy,CategoricalCrossentropy, SparseCategoricalCrossentropy\n",
        "from tensorflow.keras.metrics import Accuracy,TopKCategoricalAccuracy, CategoricalAccuracy, SparseCategoricalAccuracy\n",
        "from tensorflow.keras.optimizers import Adam\n",
        "from google.colab import drive\n",
        "from google.colab import files\n",
        "from tensorboard.plugins import projector"
      ]
    },
    {
      "cell_type": "code",
      "source": [
        "from google.colab import drive\n",
        "drive.mount('/content/drive')"
      ],
      "metadata": {
        "colab": {
          "base_uri": "https://localhost:8080/"
        },
        "id": "2UoyD0HeWp4O",
        "outputId": "1042c420-6992-494c-f4d2-49c9f755c93b"
      },
      "execution_count": 138,
      "outputs": [
        {
          "output_type": "stream",
          "name": "stdout",
          "text": [
            "Drive already mounted at /content/drive; to attempt to forcibly remount, call drive.mount(\"/content/drive\", force_remount=True).\n"
          ]
        }
      ]
    },
    {
      "cell_type": "markdown",
      "metadata": {
        "id": "cKg0HdsrYA0S"
      },
      "source": [
        "# Data Preparation"
      ]
    },
    {
      "cell_type": "markdown",
      "metadata": {
        "id": "WgU1Z8fcOSW_"
      },
      "source": [
        "## Data Download"
      ]
    },
    {
      "cell_type": "code",
      "execution_count": 88,
      "metadata": {
        "colab": {
          "base_uri": "https://localhost:8080/"
        },
        "id": "4hwhov2uvDdo",
        "outputId": "d92a51f8-1a69-4b7a-c466-28da7725b662"
      },
      "outputs": [
        {
          "output_type": "stream",
          "name": "stdout",
          "text": [
            "--2023-12-07 16:13:54--  https://www.manythings.org/anki/fra-eng.zip\n",
            "Resolving www.manythings.org (www.manythings.org)... 173.254.30.110\n",
            "Connecting to www.manythings.org (www.manythings.org)|173.254.30.110|:443... connected.\n",
            "HTTP request sent, awaiting response... 200 OK\n",
            "Length: 7833145 (7.5M) [application/zip]\n",
            "Saving to: ‘fra-eng.zip.1’\n",
            "\n",
            "fra-eng.zip.1       100%[===================>]   7.47M  14.9MB/s    in 0.5s    \n",
            "\n",
            "2023-12-07 16:13:55 (14.9 MB/s) - ‘fra-eng.zip.1’ saved [7833145/7833145]\n",
            "\n"
          ]
        }
      ],
      "source": [
        "!wget https://www.manythings.org/anki/fra-eng.zip"
      ]
    },
    {
      "cell_type": "code",
      "execution_count": 89,
      "metadata": {
        "colab": {
          "base_uri": "https://localhost:8080/"
        },
        "id": "Y-ufBPwn8_ax",
        "outputId": "8dcf54ce-a84d-4861-aaf5-51e2a012aec6"
      },
      "outputs": [
        {
          "output_type": "stream",
          "name": "stdout",
          "text": [
            "Archive:  /content/fra-eng.zip\n",
            "replace /content/dataset/_about.txt? [y]es, [n]o, [A]ll, [N]one, [r]ename: y\n",
            "  inflating: /content/dataset/_about.txt  \n",
            "replace /content/dataset/fra.txt? [y]es, [n]o, [A]ll, [N]one, [r]ename: y\n",
            "  inflating: /content/dataset/fra.txt  \n"
          ]
        }
      ],
      "source": [
        "!unzip \"/content/fra-eng.zip\" -d \"/content/dataset/\""
      ]
    },
    {
      "cell_type": "markdown",
      "metadata": {
        "id": "RBHsJDpiYDs7"
      },
      "source": [
        "## Kaggle Dataset"
      ]
    },
    {
      "cell_type": "code",
      "execution_count": 90,
      "metadata": {
        "id": "0Lako-uhxy-n"
      },
      "outputs": [],
      "source": [
        "# !pip install -q kaggle\n",
        "# #!mkdir ~/.kaggle\n",
        "# # !cp kaggle.json ~/.kaggle/\n",
        "# # !chmod 600 /root/.kaggle/kaggle.json\n",
        "# !kaggle datasets download -d dhruvildave/en-fr-translation-dataset"
      ]
    },
    {
      "cell_type": "code",
      "execution_count": 91,
      "metadata": {
        "colab": {
          "base_uri": "https://localhost:8080/"
        },
        "id": "B44hfX_vxzA-",
        "outputId": "d39bffe4-8ee1-4485-a153-8eb00e09dbf3"
      },
      "outputs": [
        {
          "output_type": "stream",
          "name": "stdout",
          "text": [
            "unzip:  cannot find or open /content/en-fr-translation-dataset.zip, /content/en-fr-translation-dataset.zip.zip or /content/en-fr-translation-dataset.zip.ZIP.\n"
          ]
        }
      ],
      "source": [
        "!unzip \"/content/en-fr-translation-dataset.zip\" -d \"/content/dataset/\""
      ]
    },
    {
      "cell_type": "code",
      "execution_count": 92,
      "metadata": {
        "id": "fXcOEWp2L7U9"
      },
      "outputs": [],
      "source": [
        "dataset = tf.data.experimental.CsvDataset(\n",
        "  \"/content/dataset/en-fr.csv\",\n",
        "  [\n",
        "    tf.string,\n",
        "    tf.string\n",
        "  ],\n",
        ")"
      ]
    },
    {
      "cell_type": "markdown",
      "metadata": {
        "id": "omyb2Dq_YHbT"
      },
      "source": [
        "## Data Processing"
      ]
    },
    {
      "cell_type": "code",
      "execution_count": 139,
      "metadata": {
        "id": "ywC7WnoIJeXl"
      },
      "outputs": [],
      "source": [
        "text_dataset=tf.data.TextLineDataset(\"/content/dataset/fra.txt\")"
      ]
    },
    {
      "cell_type": "code",
      "execution_count": 140,
      "metadata": {
        "id": "QlcJxz6cJeb_"
      },
      "outputs": [],
      "source": [
        "VOCAB_SIZE=20000\n",
        "ENGLISH_SEQUENCE_LENGTH=64\n",
        "FRENCH_SEQUENCE_LENGTH=64\n",
        "EMBEDDING_DIM=300\n",
        "BATCH_SIZE=64"
      ]
    },
    {
      "cell_type": "code",
      "execution_count": 141,
      "metadata": {
        "id": "TePer9o-JeeR"
      },
      "outputs": [],
      "source": [
        "english_vectorize_layer=TextVectorization(\n",
        "    standardize='lower_and_strip_punctuation',\n",
        "    max_tokens=VOCAB_SIZE,\n",
        "    output_mode='int',\n",
        "    output_sequence_length=ENGLISH_SEQUENCE_LENGTH\n",
        ")"
      ]
    },
    {
      "cell_type": "code",
      "execution_count": 142,
      "metadata": {
        "id": "unGn0zqEJegg"
      },
      "outputs": [],
      "source": [
        "french_vectorize_layer=TextVectorization(\n",
        "    standardize='lower_and_strip_punctuation',\n",
        "    max_tokens=VOCAB_SIZE,\n",
        "    output_mode='int',\n",
        "    output_sequence_length=FRENCH_SEQUENCE_LENGTH\n",
        ")"
      ]
    },
    {
      "cell_type": "code",
      "execution_count": 143,
      "metadata": {
        "id": "iNK3uewuQTjY"
      },
      "outputs": [],
      "source": [
        "def selector(input_text):\n",
        "  split_text=tf.strings.split(input_text,'\\t')\n",
        "  return {'input_1':split_text[0:1],'input_2':'starttoken '+split_text[1:2]},split_text[1:2]+' endtoken'"
      ]
    },
    {
      "cell_type": "code",
      "execution_count": 144,
      "metadata": {
        "id": "YZDH8xn7Q12e"
      },
      "outputs": [],
      "source": [
        "split_dataset=text_dataset.map(selector)"
      ]
    },
    {
      "cell_type": "code",
      "execution_count": 145,
      "metadata": {
        "id": "7fcSDED_2c-z"
      },
      "outputs": [],
      "source": [
        "def separator(input_text):\n",
        "  split_text=tf.strings.split(input_text,'\\t')\n",
        "  return split_text[0:1],'starttoken '+split_text[1:2]+' endtoken'"
      ]
    },
    {
      "cell_type": "code",
      "execution_count": 146,
      "metadata": {
        "id": "ktN95hiN2pgU"
      },
      "outputs": [],
      "source": [
        "init_dataset=text_dataset.map(separator)"
      ]
    },
    {
      "cell_type": "code",
      "execution_count": 147,
      "metadata": {
        "colab": {
          "base_uri": "https://localhost:8080/"
        },
        "id": "OQkSkpd1tils",
        "outputId": "01176eb5-dbe9-4789-f702-9703d22d3980"
      },
      "outputs": [
        {
          "output_type": "stream",
          "name": "stdout",
          "text": [
            "({'input_1': <tf.Tensor: shape=(1,), dtype=string, numpy=array([b'Go.'], dtype=object)>, 'input_2': <tf.Tensor: shape=(1,), dtype=string, numpy=array([b'starttoken Va !'], dtype=object)>}, <tf.Tensor: shape=(1,), dtype=string, numpy=array([b'Va ! endtoken'], dtype=object)>)\n",
            "({'input_1': <tf.Tensor: shape=(1,), dtype=string, numpy=array([b'Go.'], dtype=object)>, 'input_2': <tf.Tensor: shape=(1,), dtype=string, numpy=array([b'starttoken Marche.'], dtype=object)>}, <tf.Tensor: shape=(1,), dtype=string, numpy=array([b'Marche. endtoken'], dtype=object)>)\n",
            "({'input_1': <tf.Tensor: shape=(1,), dtype=string, numpy=array([b'Go.'], dtype=object)>, 'input_2': <tf.Tensor: shape=(1,), dtype=string, numpy=array([b'starttoken En route !'], dtype=object)>}, <tf.Tensor: shape=(1,), dtype=string, numpy=array([b'En route ! endtoken'], dtype=object)>)\n"
          ]
        }
      ],
      "source": [
        "for i in split_dataset.take(3):\n",
        "  print(i)"
      ]
    },
    {
      "cell_type": "code",
      "execution_count": 148,
      "metadata": {
        "id": "_usEDYiOJeil"
      },
      "outputs": [],
      "source": [
        "english_training_data=init_dataset.map(lambda x,y:x)### input x,y and output x\n",
        "english_vectorize_layer.adapt(english_training_data)#### adapt the vectorize_layer to the training data"
      ]
    },
    {
      "cell_type": "code",
      "execution_count": 149,
      "metadata": {
        "id": "dl7pxJprJek2"
      },
      "outputs": [],
      "source": [
        "french_training_data=init_dataset.map(lambda x,y:y)### input x,y,z and output y\n",
        "french_vectorize_layer.adapt(french_training_data)#### adapt the vectorize_layer to the training data"
      ]
    },
    {
      "cell_type": "code",
      "execution_count": 150,
      "metadata": {
        "id": "4yVIMxvTJemt"
      },
      "outputs": [],
      "source": [
        "def vectorizer(inputs,output):\n",
        "  return {'input_1':english_vectorize_layer(inputs['input_1']),\n",
        "          'input_2':french_vectorize_layer(inputs['input_2'])},french_vectorize_layer(output)"
      ]
    },
    {
      "cell_type": "code",
      "execution_count": 151,
      "metadata": {
        "id": "op5UqhS14HHz",
        "colab": {
          "base_uri": "https://localhost:8080/"
        },
        "outputId": "560fefa4-a979-443b-cf4b-1ab9da6410f4"
      },
      "outputs": [
        {
          "output_type": "execute_result",
          "data": {
            "text/plain": [
              "<_MapDataset element_spec=({'input_1': TensorSpec(shape=(None,), dtype=tf.string, name=None), 'input_2': TensorSpec(shape=(None,), dtype=tf.string, name=None)}, TensorSpec(shape=(None,), dtype=tf.string, name=None))>"
            ]
          },
          "metadata": {},
          "execution_count": 151
        }
      ],
      "source": [
        "split_dataset"
      ]
    },
    {
      "cell_type": "code",
      "execution_count": 152,
      "metadata": {
        "id": "wI9-GPpVJepF"
      },
      "outputs": [],
      "source": [
        "dataset=split_dataset.map(vectorizer)"
      ]
    },
    {
      "cell_type": "code",
      "execution_count": 153,
      "metadata": {
        "id": "m_6Xtks8wPk5",
        "colab": {
          "base_uri": "https://localhost:8080/"
        },
        "outputId": "df66c222-17d2-4f5e-b0d0-fe76107f76e2"
      },
      "outputs": [
        {
          "output_type": "stream",
          "name": "stdout",
          "text": [
            "({'input_1': <tf.Tensor: shape=(1,), dtype=string, numpy=array([b'Go.'], dtype=object)>, 'input_2': <tf.Tensor: shape=(1,), dtype=string, numpy=array([b'starttoken Va !'], dtype=object)>}, <tf.Tensor: shape=(1,), dtype=string, numpy=array([b'Va ! endtoken'], dtype=object)>)\n",
            "({'input_1': <tf.Tensor: shape=(1,), dtype=string, numpy=array([b'Go.'], dtype=object)>, 'input_2': <tf.Tensor: shape=(1,), dtype=string, numpy=array([b'starttoken Marche.'], dtype=object)>}, <tf.Tensor: shape=(1,), dtype=string, numpy=array([b'Marche. endtoken'], dtype=object)>)\n",
            "({'input_1': <tf.Tensor: shape=(1,), dtype=string, numpy=array([b'Go.'], dtype=object)>, 'input_2': <tf.Tensor: shape=(1,), dtype=string, numpy=array([b'starttoken En route !'], dtype=object)>}, <tf.Tensor: shape=(1,), dtype=string, numpy=array([b'En route ! endtoken'], dtype=object)>)\n"
          ]
        }
      ],
      "source": [
        "for i in split_dataset.take(3):\n",
        "  print(i)"
      ]
    },
    {
      "cell_type": "code",
      "execution_count": 154,
      "metadata": {
        "id": "FM9aenklufpC",
        "colab": {
          "base_uri": "https://localhost:8080/"
        },
        "outputId": "e685b2e4-1d45-40da-9ee2-ec7e0c31d1d7"
      },
      "outputs": [
        {
          "output_type": "stream",
          "name": "stdout",
          "text": [
            "({'input_1': <tf.Tensor: shape=(1, 64), dtype=int64, numpy=\n",
            "array([[45,  0,  0,  0,  0,  0,  0,  0,  0,  0,  0,  0,  0,  0,  0,  0,\n",
            "         0,  0,  0,  0,  0,  0,  0,  0,  0,  0,  0,  0,  0,  0,  0,  0,\n",
            "         0,  0,  0,  0,  0,  0,  0,  0,  0,  0,  0,  0,  0,  0,  0,  0,\n",
            "         0,  0,  0,  0,  0,  0,  0,  0,  0,  0,  0,  0,  0,  0,  0,  0]])>, 'input_2': <tf.Tensor: shape=(1, 64), dtype=int64, numpy=\n",
            "array([[  2, 104,   0,   0,   0,   0,   0,   0,   0,   0,   0,   0,   0,\n",
            "          0,   0,   0,   0,   0,   0,   0,   0,   0,   0,   0,   0,   0,\n",
            "          0,   0,   0,   0,   0,   0,   0,   0,   0,   0,   0,   0,   0,\n",
            "          0,   0,   0,   0,   0,   0,   0,   0,   0,   0,   0,   0,   0,\n",
            "          0,   0,   0,   0,   0,   0,   0,   0,   0,   0,   0,   0]])>}, <tf.Tensor: shape=(1, 64), dtype=int64, numpy=\n",
            "array([[104,   3,   0,   0,   0,   0,   0,   0,   0,   0,   0,   0,   0,\n",
            "          0,   0,   0,   0,   0,   0,   0,   0,   0,   0,   0,   0,   0,\n",
            "          0,   0,   0,   0,   0,   0,   0,   0,   0,   0,   0,   0,   0,\n",
            "          0,   0,   0,   0,   0,   0,   0,   0,   0,   0,   0,   0,   0,\n",
            "          0,   0,   0,   0,   0,   0,   0,   0,   0,   0,   0,   0]])>)\n"
          ]
        }
      ],
      "source": [
        "for i in dataset.take(1):\n",
        "  print(i)"
      ]
    },
    {
      "cell_type": "code",
      "execution_count": 155,
      "metadata": {
        "id": "iOpSsko7TiKd",
        "colab": {
          "base_uri": "https://localhost:8080/"
        },
        "outputId": "2cad0486-9712-4072-ab82-c901115e73df"
      },
      "outputs": [
        {
          "output_type": "execute_result",
          "data": {
            "text/plain": [
              "<_MapDataset element_spec=({'input_1': TensorSpec(shape=(None, 64), dtype=tf.int64, name=None), 'input_2': TensorSpec(shape=(None, 64), dtype=tf.int64, name=None)}, TensorSpec(shape=(None, 64), dtype=tf.int64, name=None))>"
            ]
          },
          "metadata": {},
          "execution_count": 155
        }
      ],
      "source": [
        "dataset"
      ]
    },
    {
      "cell_type": "code",
      "execution_count": 156,
      "metadata": {
        "id": "_WE0s6p9TiM9"
      },
      "outputs": [],
      "source": [
        "dataset=dataset.shuffle(2048).unbatch().batch(BATCH_SIZE).prefetch(buffer_size=tf.data.AUTOTUNE)"
      ]
    },
    {
      "cell_type": "code",
      "execution_count": 157,
      "metadata": {
        "id": "tTkF_Qu54QB5",
        "colab": {
          "base_uri": "https://localhost:8080/"
        },
        "outputId": "bd9370d4-de64-425b-ec96-a663aedb7bf1"
      },
      "outputs": [
        {
          "output_type": "execute_result",
          "data": {
            "text/plain": [
              "<_PrefetchDataset element_spec=({'input_1': TensorSpec(shape=(None, 64), dtype=tf.int64, name=None), 'input_2': TensorSpec(shape=(None, 64), dtype=tf.int64, name=None)}, TensorSpec(shape=(None, 64), dtype=tf.int64, name=None))>"
            ]
          },
          "metadata": {},
          "execution_count": 157
        }
      ],
      "source": [
        "dataset"
      ]
    },
    {
      "cell_type": "code",
      "execution_count": 158,
      "metadata": {
        "id": "K5JXDdrNtwRj"
      },
      "outputs": [],
      "source": [
        "NUM_BATCHES=int(200000/BATCH_SIZE)"
      ]
    },
    {
      "cell_type": "code",
      "execution_count": 159,
      "metadata": {
        "id": "XQvg18V5TiO7"
      },
      "outputs": [],
      "source": [
        "train_dataset=dataset.take(int(0.9*NUM_BATCHES))\n",
        "val_dataset=dataset.skip(int(0.9*NUM_BATCHES))"
      ]
    },
    {
      "cell_type": "code",
      "execution_count": 160,
      "metadata": {
        "id": "tfCmn1DzTiRp",
        "colab": {
          "base_uri": "https://localhost:8080/"
        },
        "outputId": "9a19ca61-9f07-463f-a9e3-2683e29d5f72"
      },
      "outputs": [
        {
          "output_type": "execute_result",
          "data": {
            "text/plain": [
              "<_TakeDataset element_spec=({'input_1': TensorSpec(shape=(None, 64), dtype=tf.int64, name=None), 'input_2': TensorSpec(shape=(None, 64), dtype=tf.int64, name=None)}, TensorSpec(shape=(None, 64), dtype=tf.int64, name=None))>"
            ]
          },
          "metadata": {},
          "execution_count": 160
        }
      ],
      "source": [
        "train_dataset"
      ]
    },
    {
      "cell_type": "code",
      "execution_count": 160,
      "metadata": {
        "id": "GtWRb34auKbT"
      },
      "outputs": [],
      "source": []
    },
    {
      "cell_type": "markdown",
      "metadata": {
        "id": "nBVM2EB0Xh97"
      },
      "source": [
        "# Modeling"
      ]
    },
    {
      "cell_type": "code",
      "execution_count": 161,
      "metadata": {
        "id": "t5lTjZBE6M4Q"
      },
      "outputs": [],
      "source": [
        "NUM_UNITS=256"
      ]
    },
    {
      "cell_type": "code",
      "execution_count": 162,
      "metadata": {
        "colab": {
          "base_uri": "https://localhost:8080/"
        },
        "id": "K6yQraRg7EDH",
        "outputId": "90c87d58-4236-4531-cabf-d971f0b61538"
      },
      "outputs": [
        {
          "output_type": "stream",
          "name": "stdout",
          "text": [
            "Model: \"model_3\"\n",
            "__________________________________________________________________________________________________\n",
            " Layer (type)                Output Shape                 Param #   Connected to                  \n",
            "==================================================================================================\n",
            " input_1 (InputLayer)        [(None, 64)]                 0         []                            \n",
            "                                                                                                  \n",
            " input_2 (InputLayer)        [(None, 64)]                 0         []                            \n",
            "                                                                                                  \n",
            " embedding_6 (Embedding)     (None, 64, 300)              6000000   ['input_1[0][0]']             \n",
            "                                                                                                  \n",
            " embedding_7 (Embedding)     (None, 64, 300)              6000000   ['input_2[0][0]']             \n",
            "                                                                                                  \n",
            " bidirectional_3 (Bidirecti  (None, 512)                  857088    ['embedding_6[0][0]']         \n",
            " onal)                                                                                            \n",
            "                                                                                                  \n",
            " gru_7 (GRU)                 (None, 64, 512)              1250304   ['embedding_7[0][0]',         \n",
            "                                                                     'bidirectional_3[0][0]']     \n",
            "                                                                                                  \n",
            " dropout_3 (Dropout)         (None, 64, 512)              0         ['gru_7[0][0]']               \n",
            "                                                                                                  \n",
            " dense_3 (Dense)             (None, 64, 20000)            1026000   ['dropout_3[0][0]']           \n",
            "                                                          0                                       \n",
            "                                                                                                  \n",
            "==================================================================================================\n",
            "Total params: 24367392 (92.95 MB)\n",
            "Trainable params: 24367392 (92.95 MB)\n",
            "Non-trainable params: 0 (0.00 Byte)\n",
            "__________________________________________________________________________________________________\n"
          ]
        }
      ],
      "source": [
        "### ENCODER\n",
        "input = Input(shape=(ENGLISH_SEQUENCE_LENGTH,), dtype=\"int64\", name=\"input_1\")\n",
        "x=Embedding(VOCAB_SIZE, EMBEDDING_DIM, )(input)\n",
        "encoded_input=Bidirectional(GRU(NUM_UNITS), )(x)\n",
        "\n",
        "### DECODER\n",
        "shifted_target=Input(shape=(FRENCH_SEQUENCE_LENGTH,), dtype=\"int64\", name=\"input_2\")\n",
        "x=Embedding(VOCAB_SIZE,EMBEDDING_DIM,)(shifted_target)\n",
        "x = GRU(NUM_UNITS*2, return_sequences=True)(x, initial_state=encoded_input)\n",
        "\n",
        "### OUTPUT\n",
        "x = Dropout(0.5)(x)\n",
        "target=Dense(VOCAB_SIZE,activation=\"softmax\")(x)\n",
        "seq2seq_gru=Model([input,shifted_target],target)\n",
        "seq2seq_gru.summary()"
      ]
    },
    {
      "cell_type": "code",
      "execution_count": 163,
      "metadata": {
        "id": "wKrG-74zHlR-"
      },
      "outputs": [],
      "source": [
        "class BLEU(tf.keras.metrics.Metric):\n",
        "    def __init__(self,name='bleu_score'):\n",
        "        super(BLEU,self).__init__()\n",
        "        self.bleu_score=0\n",
        "\n",
        "    def update_state(self,y_true,y_pred,sample_weight=None):\n",
        "      y_pred=tf.argmax(y_pred,-1)\n",
        "      self.bleu_score=0\n",
        "      for i,j in zip(y_pred,y_true):\n",
        "        tf.autograph.experimental.set_loop_options()\n",
        "\n",
        "        total_words=tf.math.count_nonzero(i)\n",
        "        total_matches=0\n",
        "        for word in i:\n",
        "          if word==0:\n",
        "            break\n",
        "          for q in range(len(j)):\n",
        "            if j[q]==0:\n",
        "              break\n",
        "            if word==j[q]:\n",
        "              total_matches+=1\n",
        "              j=tf.boolean_mask(j,[False if y==q else True for y in range(len(j))])\n",
        "              break\n",
        "\n",
        "        self.bleu_score+=total_matches/total_words\n",
        "\n",
        "    def result(self):\n",
        "        return self.bleu_score/BATCH_SIZE"
      ]
    },
    {
      "cell_type": "code",
      "execution_count": 178,
      "metadata": {
        "id": "yk-sLBpE7EFf"
      },
      "outputs": [],
      "source": [
        "seq2seq_gru.compile(\n",
        "    loss=tf.keras.losses.SparseCategoricalCrossentropy(),\n",
        "    optimizer=tf.keras.optimizers.Adam(5e-4),)\n",
        "    #metrics=[BLEU()])\n",
        "    #metrics = [\"accuracy\"])\n",
        "    #run_eagerly=True))"
      ]
    },
    {
      "cell_type": "code",
      "execution_count": 165,
      "metadata": {
        "id": "5xPxLzvgVAp-"
      },
      "outputs": [],
      "source": [
        "checkpoint_filepath = '/content/drive/MyDrive/nlp/translation/lstm.h5'\n",
        "# model_checkpoint_callback = tf.keras.callbacks.ModelCheckpoint(\n",
        "#     filepath=checkpoint_filepath,\n",
        "#     monitor=['val_loss','val_accuracy'],\n",
        "#     mode='min',\n",
        "#     save_best_only=True,)\n",
        "\n",
        "model_checkpoint_callback = tf.keras.callbacks.ModelCheckpoint(\n",
        "    filepath=checkpoint_filepath,\n",
        "    monitor='val_loss',  # Monitor both validation loss and validation accuracy\n",
        "    mode='min',  # If monitoring loss, use 'min'. If monitoring accuracy, use 'max'.\n",
        "    save_best_only=True,\n",
        ")"
      ]
    },
    {
      "cell_type": "code",
      "execution_count": 166,
      "metadata": {
        "colab": {
          "base_uri": "https://localhost:8080/"
        },
        "id": "H8CYlj_w-UPO",
        "outputId": "4d173484-9686-4779-af66-1d5b4b06f022"
      },
      "outputs": [
        {
          "output_type": "stream",
          "name": "stdout",
          "text": [
            "Epoch 1/15\n",
            "   2812/Unknown - 337s 118ms/step - loss: 0.4678"
          ]
        },
        {
          "output_type": "stream",
          "name": "stderr",
          "text": [
            "/usr/local/lib/python3.10/dist-packages/keras/src/engine/training.py:3079: UserWarning: You are saving your model as an HDF5 file via `model.save()`. This file format is considered legacy. We recommend using instead the native Keras format, e.g. `model.save('my_model.keras')`.\n",
            "  saving_api.save_model(\n"
          ]
        },
        {
          "output_type": "stream",
          "name": "stdout",
          "text": [
            "\b\b\b\b\b\b\b\b\b\b\b\b\b\b\b\b\b\b\b\b\b\b\b\b\b\b\b\b\b\b\b\b\b\b\b\b\b\b\b\b\b\b\b\b\b\b\b\b\r2812/2812 [==============================] - 401s 141ms/step - loss: 0.4678 - val_loss: 0.7149\n",
            "Epoch 2/15\n",
            "2812/2812 [==============================] - 387s 137ms/step - loss: 0.2733 - val_loss: 0.6295\n",
            "Epoch 3/15\n",
            "2812/2812 [==============================] - 388s 138ms/step - loss: 0.2124 - val_loss: 0.5816\n",
            "Epoch 4/15\n",
            "2812/2812 [==============================] - 386s 137ms/step - loss: 0.1767 - val_loss: 0.5511\n",
            "Epoch 5/15\n",
            "2812/2812 [==============================] - 387s 137ms/step - loss: 0.1532 - val_loss: 0.5506\n",
            "Epoch 6/15\n",
            "2812/2812 [==============================] - 386s 137ms/step - loss: 0.1362 - val_loss: 0.5494\n",
            "Epoch 7/15\n",
            "2812/2812 [==============================] - 383s 136ms/step - loss: 0.1235 - val_loss: 0.5431\n",
            "Epoch 8/15\n",
            "2812/2812 [==============================] - 387s 137ms/step - loss: 0.1136 - val_loss: 0.5396\n",
            "Epoch 9/15\n",
            "2812/2812 [==============================] - 386s 137ms/step - loss: 0.1057 - val_loss: 0.5362\n",
            "Epoch 10/15\n",
            "2812/2812 [==============================] - 384s 137ms/step - loss: 0.0990 - val_loss: 0.5423\n",
            "Epoch 11/15\n",
            "2812/2812 [==============================] - 384s 137ms/step - loss: 0.0934 - val_loss: 0.5429\n",
            "Epoch 12/15\n",
            "2812/2812 [==============================] - 382s 136ms/step - loss: 0.0888 - val_loss: 0.5512\n",
            "Epoch 13/15\n",
            "2812/2812 [==============================] - 383s 136ms/step - loss: 0.0847 - val_loss: 0.5500\n",
            "Epoch 14/15\n",
            "2812/2812 [==============================] - 384s 137ms/step - loss: 0.0812 - val_loss: 0.5595\n",
            "Epoch 15/15\n",
            "2812/2812 [==============================] - 384s 136ms/step - loss: 0.0780 - val_loss: 0.5661\n"
          ]
        }
      ],
      "source": [
        "history=seq2seq_gru.fit(\n",
        "    train_dataset,\n",
        "    validation_data=val_dataset,\n",
        "    epochs=15,\n",
        "    callbacks=[model_checkpoint_callback])"
      ]
    },
    {
      "cell_type": "code",
      "execution_count": 167,
      "metadata": {
        "colab": {
          "base_uri": "https://localhost:8080/",
          "height": 472
        },
        "id": "rj3wLwSW7EMb",
        "outputId": "2cd773f4-4c23-46d1-ca94-52efba3bfeb6"
      },
      "outputs": [
        {
          "output_type": "display_data",
          "data": {
            "text/plain": [
              "<Figure size 640x480 with 1 Axes>"
            ],
            "image/png": "[encoded data removed]"
          },
          "metadata": {}
        }
      ],
      "source": [
        "plt.plot(history.history['loss'])\n",
        "plt.plot(history.history['val_loss'])\n",
        "plt.title('model_loss')\n",
        "plt.ylabel('loss')\n",
        "plt.xlabel('epoch')\n",
        "plt.legend(['train', 'val'], loc='upper left')\n",
        "plt.show()"
      ]
    },
    {
      "cell_type": "code",
      "source": [
        "print(history.history.keys())"
      ],
      "metadata": {
        "colab": {
          "base_uri": "https://localhost:8080/"
        },
        "id": "8ke2jWAk_IcB",
        "outputId": "becc0fab-a1f7-4a28-c6c4-0cc320fd30d9"
      },
      "execution_count": 168,
      "outputs": [
        {
          "output_type": "stream",
          "name": "stdout",
          "text": [
            "dict_keys(['loss', 'val_loss'])\n"
          ]
        }
      ]
    },
    {
      "cell_type": "code",
      "source": [
        "seq2seq_gru.compile(\n",
        "    loss=tf.keras.losses.SparseCategoricalCrossentropy(),\n",
        "    optimizer=tf.keras.optimizers.Adam(5e-4),\n",
        "    #metrics=[BLEU()])\n",
        "    metrics = [\"accuracy\"])\n",
        "    #run_eagerly=True))"
      ],
      "metadata": {
        "id": "kCR98ouS-k-_"
      },
      "execution_count": 179,
      "outputs": []
    },
    {
      "cell_type": "code",
      "source": [
        "checkpoint_filepath = '/content/drive/MyDrive/nlp/translation/lstm.h5'\n",
        "# model_checkpoint_callback = tf.keras.callbacks.ModelCheckpoint(\n",
        "#     filepath=checkpoint_filepath,\n",
        "#     monitor=['val_loss','val_accuracy'],\n",
        "#     mode='min',\n",
        "#     save_best_only=True,)\n",
        "\n",
        "model_checkpoint_callback = tf.keras.callbacks.ModelCheckpoint(\n",
        "    filepath=checkpoint_filepath,\n",
        "    monitor='val_accuracy',  # Monitor both validation loss and validation accuracy\n",
        "    mode='max',  # If monitoring loss, use 'min'. If monitoring accuracy, use 'max'.\n",
        "    save_best_only=True,\n",
        ")"
      ],
      "metadata": {
        "id": "XiFiE7wXj4B_"
      },
      "execution_count": 180,
      "outputs": []
    },
    {
      "cell_type": "code",
      "source": [
        "history=seq2seq_gru.fit(\n",
        "    train_dataset,\n",
        "    validation_data=val_dataset,\n",
        "    epochs=15,\n",
        "    callbacks=[model_checkpoint_callback])"
      ],
      "metadata": {
        "colab": {
          "base_uri": "https://localhost:8080/"
        },
        "id": "tS_fzfqincTu",
        "outputId": "350070e2-9adc-4905-e6f0-186e35b9c124"
      },
      "execution_count": 181,
      "outputs": [
        {
          "output_type": "stream",
          "name": "stdout",
          "text": [
            "Epoch 1/15\n",
            "2812/2812 [==============================] - 490s 173ms/step - loss: 0.0581 - accuracy: 0.9830 - val_loss: 0.6293 - val_accuracy: 0.9108\n",
            "Epoch 2/15\n",
            "2812/2812 [==============================] - 473s 168ms/step - loss: 0.0548 - accuracy: 0.9837 - val_loss: 0.6242 - val_accuracy: 0.9113\n",
            "Epoch 3/15\n",
            "2812/2812 [==============================] - 468s 166ms/step - loss: 0.0536 - accuracy: 0.9840 - val_loss: 0.6253 - val_accuracy: 0.9112\n",
            "Epoch 4/15\n",
            "2812/2812 [==============================] - 471s 167ms/step - loss: 0.0527 - accuracy: 0.9842 - val_loss: 0.6322 - val_accuracy: 0.9112\n",
            "Epoch 5/15\n",
            "2812/2812 [==============================] - 470s 167ms/step - loss: 0.0519 - accuracy: 0.9843 - val_loss: 0.6359 - val_accuracy: 0.9112\n",
            "Epoch 6/15\n",
            "2812/2812 [==============================] - 469s 167ms/step - loss: 0.0513 - accuracy: 0.9845 - val_loss: 0.6377 - val_accuracy: 0.9109\n",
            "Epoch 7/15\n",
            "2812/2812 [==============================] - 470s 167ms/step - loss: 0.0506 - accuracy: 0.9846 - val_loss: 0.6331 - val_accuracy: 0.9116\n",
            "Epoch 8/15\n",
            "2812/2812 [==============================] - 470s 167ms/step - loss: 0.0500 - accuracy: 0.9848 - val_loss: 0.6421 - val_accuracy: 0.9111\n",
            "Epoch 9/15\n",
            "2812/2812 [==============================] - 471s 168ms/step - loss: 0.0496 - accuracy: 0.9849 - val_loss: 0.6500 - val_accuracy: 0.9109\n",
            "Epoch 10/15\n",
            "2812/2812 [==============================] - 472s 168ms/step - loss: 0.0489 - accuracy: 0.9851 - val_loss: 0.6579 - val_accuracy: 0.9109\n",
            "Epoch 11/15\n",
            "2812/2812 [==============================] - 474s 168ms/step - loss: 0.0486 - accuracy: 0.9852 - val_loss: 0.6563 - val_accuracy: 0.9110\n",
            "Epoch 12/15\n",
            "2812/2812 [==============================] - 469s 167ms/step - loss: 0.0482 - accuracy: 0.9852 - val_loss: 0.6541 - val_accuracy: 0.9110\n",
            "Epoch 13/15\n",
            "2812/2812 [==============================] - 470s 167ms/step - loss: 0.0478 - accuracy: 0.9853 - val_loss: 0.6628 - val_accuracy: 0.9106\n",
            "Epoch 14/15\n",
            "2812/2812 [==============================] - 471s 167ms/step - loss: 0.0473 - accuracy: 0.9854 - val_loss: 0.6593 - val_accuracy: 0.9110\n",
            "Epoch 15/15\n",
            "2812/2812 [==============================] - 471s 167ms/step - loss: 0.0470 - accuracy: 0.9855 - val_loss: 0.6692 - val_accuracy: 0.9110\n"
          ]
        }
      ]
    },
    {
      "cell_type": "code",
      "source": [
        "print(history.history.keys())"
      ],
      "metadata": {
        "colab": {
          "base_uri": "https://localhost:8080/"
        },
        "id": "opP4FMUs90t0",
        "outputId": "3ec2fa05-e3ca-439f-e95e-4c72585ca544"
      },
      "execution_count": 182,
      "outputs": [
        {
          "output_type": "stream",
          "name": "stdout",
          "text": [
            "dict_keys(['loss', 'accuracy', 'val_loss', 'val_accuracy'])\n"
          ]
        }
      ]
    },
    {
      "cell_type": "code",
      "source": [],
      "metadata": {
        "id": "rLe3HXhq985K"
      },
      "execution_count": 182,
      "outputs": []
    },
    {
      "cell_type": "code",
      "execution_count": 184,
      "metadata": {
        "colab": {
          "base_uri": "https://localhost:8080/",
          "height": 472
        },
        "id": "PsF_wos17EOC",
        "outputId": "caecccb4-ce90-4008-860c-8caaebe9b1b6"
      },
      "outputs": [
        {
          "output_type": "display_data",
          "data": {
            "text/plain": [
              "<Figure size 640x480 with 1 Axes>"
            ],
            "image/png": "[encoded data removed]"
          },
          "metadata": {}
        }
      ],
      "source": [
        "plt.plot(history.history['accuracy'])\n",
        "plt.plot(history.history['val_accuracy'])\n",
        "\n",
        "plt.title('model_accuracy')\n",
        "plt.ylabel('accuracy')\n",
        "plt.xlabel('epoch')\n",
        "plt.legend(['train', 'val'], loc='upper left')\n",
        "plt.show()"
      ]
    },
    {
      "cell_type": "markdown",
      "metadata": {
        "id": "GPy87_oDLYpA"
      },
      "source": [
        "## Evaluation"
      ]
    },
    {
      "cell_type": "code",
      "execution_count": 185,
      "metadata": {
        "colab": {
          "base_uri": "https://localhost:8080/"
        },
        "id": "cRpieVKYLZ19",
        "outputId": "848c6b61-c216-45ed-cc91-393535ab1455"
      },
      "outputs": [
        {
          "output_type": "stream",
          "name": "stdout",
          "text": [
            "779/779 [==============================] - 84s 76ms/step - loss: 0.6692 - accuracy: 0.9110\n"
          ]
        },
        {
          "output_type": "execute_result",
          "data": {
            "text/plain": [
              "[0.6692100167274475, 0.9109768271446228]"
            ]
          },
          "metadata": {},
          "execution_count": 185
        }
      ],
      "source": [
        "seq2seq_gru.evaluate(val_dataset)"
      ]
    },
    {
      "cell_type": "markdown",
      "metadata": {
        "id": "4i1ajAymaDoF"
      },
      "source": [
        "## Testing"
      ]
    },
    {
      "cell_type": "code",
      "execution_count": 186,
      "metadata": {
        "id": "FnEza6wFDhrI"
      },
      "outputs": [],
      "source": [
        "index_to_word={x:y for x, y in zip(range(len(french_vectorize_layer.get_vocabulary())),\n",
        "                                   french_vectorize_layer.get_vocabulary())}"
      ]
    },
    {
      "cell_type": "code",
      "execution_count": 187,
      "metadata": {
        "id": "j_H7mglPugSI"
      },
      "outputs": [],
      "source": [
        "def translator(english_sentence):\n",
        "  tokenized_english_sentence=english_vectorize_layer([english_sentence])\n",
        "  shifted_target='starttoken'\n",
        "\n",
        "  for i in range(FRENCH_SEQUENCE_LENGTH):\n",
        "    tokenized_shifted_target=french_vectorize_layer([shifted_target])\n",
        "    output=seq2seq_gru.predict([tokenized_english_sentence,tokenized_shifted_target])\n",
        "    french_word_index=tf.argmax(output,axis=-1)[0][i].numpy()\n",
        "    current_word=index_to_word[french_word_index]\n",
        "    if current_word=='endtoken':\n",
        "      break\n",
        "    shifted_target+=' '+current_word\n",
        "  return shifted_target[11:]"
      ]
    },
    {
      "cell_type": "code",
      "execution_count": 188,
      "metadata": {
        "colab": {
          "base_uri": "https://localhost:8080/",
          "height": 226
        },
        "id": "UAMeQb2vytcp",
        "outputId": "ccb81f0f-d994-4ebb-e2b4-8ee409d3dea4"
      },
      "outputs": [
        {
          "output_type": "stream",
          "name": "stdout",
          "text": [
            "1/1 [==============================] - 1s 871ms/step\n",
            "1/1 [==============================] - 0s 26ms/step\n",
            "1/1 [==============================] - 0s 24ms/step\n",
            "1/1 [==============================] - 0s 24ms/step\n",
            "1/1 [==============================] - 0s 24ms/step\n",
            "1/1 [==============================] - 0s 23ms/step\n",
            "1/1 [==============================] - 0s 24ms/step\n",
            "1/1 [==============================] - 0s 25ms/step\n",
            "1/1 [==============================] - 0s 24ms/step\n",
            "1/1 [==============================] - 0s 24ms/step\n",
            "1/1 [==============================] - 0s 23ms/step\n"
          ]
        },
        {
          "output_type": "execute_result",
          "data": {
            "text/plain": [
              "'questce qui vous fait penser que ce nest pas vrai'"
            ],
            "application/vnd.google.colaboratory.intrinsic+json": {
              "type": "string"
            }
          },
          "metadata": {},
          "execution_count": 188
        }
      ],
      "source": [
        "translator('What makes you think that is not true?')"
      ]
    },
    {
      "cell_type": "code",
      "execution_count": 189,
      "metadata": {
        "id": "tmLRAb7fFuO6"
      },
      "outputs": [],
      "source": [
        "word_to_index={y:x for x, y in zip(range(len(french_vectorize_layer.get_vocabulary())),\n",
        "                                   french_vectorize_layer.get_vocabulary())}"
      ]
    },
    {
      "cell_type": "code",
      "execution_count": 190,
      "metadata": {
        "id": "FwLFXSwHzB9_",
        "colab": {
          "base_uri": "https://localhost:8080/"
        },
        "outputId": "c4e4725b-4e0c-4ae5-ff75-cbc4bb44add5"
      },
      "outputs": [
        {
          "output_type": "execute_result",
          "data": {
            "text/plain": [
              "{'': 0,\n",
              " '[UNK]': 1,\n",
              " 'starttoken': 2,\n",
              " 'endtoken': 3,\n",
              " 'je': 4,\n",
              " 'de': 5,\n",
              " 'pas': 6,\n",
              " 'que': 7,\n",
              " 'ne': 8,\n",
              " 'le': 9,\n",
              " 'à': 10,\n",
              " 'la': 11,\n",
              " 'vous': 12,\n",
              " 'tom': 13,\n",
              " 'il': 14,\n",
              " 'est': 15,\n",
              " 'tu': 16,\n",
              " 'un': 17,\n",
              " 'ce': 18,\n",
              " 'a': 19,\n",
              " 'nous': 20,\n",
              " 'les': 21,\n",
              " 'une': 22,\n",
              " 'en': 23,\n",
              " 'jai': 24,\n",
              " 'suis': 25,\n",
              " 'pour': 26,\n",
              " 'me': 27,\n",
              " 'faire': 28,\n",
              " 'cest': 29,\n",
              " 'dans': 30,\n",
              " 'plus': 31,\n",
              " 'des': 32,\n",
              " 'elle': 33,\n",
              " 'ça': 34,\n",
              " 'tout': 35,\n",
              " 'qui': 36,\n",
              " 'te': 37,\n",
              " 'fait': 38,\n",
              " 'du': 39,\n",
              " 'ma': 40,\n",
              " 'mon': 41,\n",
              " 'veux': 42,\n",
              " 'avec': 43,\n",
              " 'se': 44,\n",
              " 'au': 45,\n",
              " 'si': 46,\n",
              " 'et': 47,\n",
              " 'cette': 48,\n",
              " 'sont': 49,\n",
              " 'y': 50,\n",
              " 'quil': 51,\n",
              " 'très': 52,\n",
              " 'pense': 53,\n",
              " 'cela': 54,\n",
              " 'nest': 55,\n",
              " 'son': 56,\n",
              " 'sur': 57,\n",
              " 'sais': 58,\n",
              " 'votre': 59,\n",
              " 'pourquoi': 60,\n",
              " 'dit': 61,\n",
              " 'temps': 62,\n",
              " 'être': 63,\n",
              " 'été': 64,\n",
              " 'était': 65,\n",
              " 'peux': 66,\n",
              " 'moi': 67,\n",
              " 'nai': 68,\n",
              " 'chose': 69,\n",
              " 'ici': 70,\n",
              " 'jamais': 71,\n",
              " 'ils': 72,\n",
              " 'lui': 73,\n",
              " 'comment': 74,\n",
              " 'où': 75,\n",
              " 'bien': 76,\n",
              " 'estce': 77,\n",
              " 'ton': 78,\n",
              " 'quelque': 79,\n",
              " 'vraiment': 80,\n",
              " 'beaucoup': 81,\n",
              " 'on': 82,\n",
              " 'besoin': 83,\n",
              " 'dire': 84,\n",
              " 'tous': 85,\n",
              " 'toi': 86,\n",
              " 'personne': 87,\n",
              " 'par': 88,\n",
              " 'rien': 89,\n",
              " 'sa': 90,\n",
              " 'êtes': 91,\n",
              " 'Ça': 92,\n",
              " 'avons': 93,\n",
              " 'sest': 94,\n",
              " 'quelle': 95,\n",
              " 'sommes': 96,\n",
              " 'ont': 97,\n",
              " 'es': 98,\n",
              " 'peu': 99,\n",
              " 'as': 100,\n",
              " 'parler': 101,\n",
              " 'toujours': 102,\n",
              " 'astu': 103,\n",
              " 'va': 104,\n",
              " 'quand': 105,\n",
              " 'trop': 106,\n",
              " 'maison': 107,\n",
              " 'aller': 108,\n",
              " 'mes': 109,\n",
              " 'comme': 110,\n",
              " 'encore': 111,\n",
              " 'ta': 112,\n",
              " 'monde': 113,\n",
              " 'deux': 114,\n",
              " 'avezvous': 115,\n",
              " 'vais': 116,\n",
              " 'voir': 117,\n",
              " 'mary': 118,\n",
              " 'quoi': 119,\n",
              " 'train': 120,\n",
              " 'na': 121,\n",
              " 'sil': 122,\n",
              " 'mais': 123,\n",
              " 'bon': 124,\n",
              " 'elles': 125,\n",
              " 'avoir': 126,\n",
              " 'dois': 127,\n",
              " 'combien': 128,\n",
              " 'soit': 129,\n",
              " 'français': 130,\n",
              " 'faut': 131,\n",
              " 'peut': 132,\n",
              " 'avez': 133,\n",
              " 'ses': 134,\n",
              " 'aussi': 135,\n",
              " 'voiture': 136,\n",
              " 'là': 137,\n",
              " 'avait': 138,\n",
              " 'lair': 139,\n",
              " 'fois': 140,\n",
              " 'travail': 141,\n",
              " 'ai': 142,\n",
              " 'vu': 143,\n",
              " 'marie': 144,\n",
              " 'déjà': 145,\n",
              " 'ny': 146,\n",
              " 'pensais': 147,\n",
              " 'maintenant': 148,\n",
              " 'jaimerais': 149,\n",
              " 'juste': 150,\n",
              " 'jétais': 151,\n",
              " 'même': 152,\n",
              " 'quel': 153,\n",
              " 'aujourdhui': 154,\n",
              " 'chez': 155,\n",
              " 'eu': 156,\n",
              " 'ces': 157,\n",
              " 'cétait': 158,\n",
              " 'quelquun': 159,\n",
              " 'ceci': 160,\n",
              " 'notre': 161,\n",
              " 'À': 162,\n",
              " 'tes': 163,\n",
              " 'mieux': 164,\n",
              " 'fais': 165,\n",
              " 'bonne': 166,\n",
              " 'sans': 167,\n",
              " 'prendre': 168,\n",
              " 'hier': 169,\n",
              " 'trois': 170,\n",
              " 'mal': 171,\n",
              " 'assez': 172,\n",
              " 'estu': 173,\n",
              " 'toutes': 174,\n",
              " 'demain': 175,\n",
              " 'seul': 176,\n",
              " 'livre': 177,\n",
              " 'père': 178,\n",
              " 'porte': 179,\n",
              " 'dun': 180,\n",
              " 'nestce': 181,\n",
              " 'dû': 182,\n",
              " 'noël': 183,\n",
              " 'problème': 184,\n",
              " 'gens': 185,\n",
              " 'puisje': 186,\n",
              " 'plaît': 187,\n",
              " 'avant': 188,\n",
              " 'Êtesvous': 189,\n",
              " 'manger': 190,\n",
              " 'dêtre': 191,\n",
              " 'toute': 192,\n",
              " 'atil': 193,\n",
              " 'vie': 194,\n",
              " 'aux': 195,\n",
              " 'savoir': 196,\n",
              " 'enfants': 197,\n",
              " 'choses': 198,\n",
              " 'cet': 199,\n",
              " 'vos': 200,\n",
              " 'devrais': 201,\n",
              " 'passé': 202,\n",
              " 'ou': 203,\n",
              " 'questce': 204,\n",
              " 'voulais': 205,\n",
              " 'lai': 206,\n",
              " 'jaime': 207,\n",
              " 'pris': 208,\n",
              " 'boston': 209,\n",
              " 'jour': 210,\n",
              " 'nuit': 211,\n",
              " 'chien': 212,\n",
              " 'heures': 213,\n",
              " 'quelques': 214,\n",
              " 'soir': 215,\n",
              " 'partir': 216,\n",
              " 'fut': 217,\n",
              " 'jespère': 218,\n",
              " 'sûr': 219,\n",
              " 'peur': 220,\n",
              " 'dune': 221,\n",
              " 'difficile': 222,\n",
              " 'dargent': 223,\n",
              " 'rester': 224,\n",
              " 'venir': 225,\n",
              " 'ans': 226,\n",
              " 'savais': 227,\n",
              " 'lécole': 228,\n",
              " 'veut': 229,\n",
              " 'dernière': 230,\n",
              " 'après': 231,\n",
              " 'jours': 232,\n",
              " 'sens': 233,\n",
              " 'moment': 234,\n",
              " 'sait': 235,\n",
              " 'depuis': 236,\n",
              " 'nouveau': 237,\n",
              " 'mère': 238,\n",
              " 'simplement': 239,\n",
              " 'parle': 240,\n",
              " 'idée': 241,\n",
              " 'tôt': 242,\n",
              " 'pu': 243,\n",
              " 'êtesvous': 244,\n",
              " 'raison': 245,\n",
              " 'heureux': 246,\n",
              " 'pouvez': 247,\n",
              " 'narrive': 248,\n",
              " 'seule': 249,\n",
              " 'demandé': 250,\n",
              " 'semaine': 251,\n",
              " 'autre': 252,\n",
              " 'semble': 253,\n",
              " 'entendu': 254,\n",
              " 'souvent': 255,\n",
              " 'sois': 256,\n",
              " 'question': 257,\n",
              " 'part': 258,\n",
              " 'nêtes': 259,\n",
              " 'longtemps': 260,\n",
              " 'aider': 261,\n",
              " 'peutêtre': 262,\n",
              " 'pendant': 263,\n",
              " 'croire': 264,\n",
              " 'rendre': 265,\n",
              " 'amis': 266,\n",
              " 'javais': 267,\n",
              " 'soyez': 268,\n",
              " 'crois': 269,\n",
              " 'nom': 270,\n",
              " 'devons': 271,\n",
              " 'parents': 272,\n",
              " 'arrivé': 273,\n",
              " 'veuxtu': 274,\n",
              " 'acheté': 275,\n",
              " 'leur': 276,\n",
              " 'sera': 277,\n",
              " 'quon': 278,\n",
              " 'tard': 279,\n",
              " 'ami': 280,\n",
              " 'trouvé': 281,\n",
              " 'naime': 282,\n",
              " 'petit': 283,\n",
              " 'fille': 284,\n",
              " 'voulezvous': 285,\n",
              " 'largent': 286,\n",
              " 'pouvezvous': 287,\n",
              " 'grand': 288,\n",
              " 'femme': 289,\n",
              " 'vrai': 290,\n",
              " 'perdu': 291,\n",
              " 'désolé': 292,\n",
              " 'retard': 293,\n",
              " 'chambre': 294,\n",
              " 'nétait': 295,\n",
              " 'heure': 296,\n",
              " 'non': 297,\n",
              " 'demande': 298,\n",
              " 'nen': 299,\n",
              " 'matin': 300,\n",
              " 'peuxtu': 301,\n",
              " 'dautre': 302,\n",
              " 'presque': 303,\n",
              " 'lire': 304,\n",
              " 'trouver': 305,\n",
              " 'pourrait': 306,\n",
              " 'homme': 307,\n",
              " 'tai': 308,\n",
              " 'moins': 309,\n",
              " 'jouer': 310,\n",
              " 'aucun': 311,\n",
              " 'merci': 312,\n",
              " 'fête': 313,\n",
              " 'passer': 314,\n",
              " 'dont': 315,\n",
              " 'doit': 316,\n",
              " 'aucune': 317,\n",
              " 'prie': 318,\n",
              " 'pensé': 319,\n",
              " 'viens': 320,\n",
              " 'étaient': 321,\n",
              " 'reste': 322,\n",
              " 'pièce': 323,\n",
              " 'nes': 324,\n",
              " 'vérité': 325,\n",
              " 'jusquà': 326,\n",
              " 'mort': 327,\n",
              " 'faites': 328,\n",
              " 'estil': 329,\n",
              " 'fort': 330,\n",
              " 'travailler': 331,\n",
              " 'aime': 332,\n",
              " 'lorsque': 333,\n",
              " 'chaque': 334,\n",
              " 'sujet': 335,\n",
              " 'nouvelle': 336,\n",
              " 'journée': 337,\n",
              " 'téléphone': 338,\n",
              " 'sortir': 339,\n",
              " 'lit': 340,\n",
              " 'pouvoir': 341,\n",
              " 'dis': 342,\n",
              " 'point': 343,\n",
              " 'famille': 344,\n",
              " 'bus': 345,\n",
              " 'café': 346,\n",
              " 'ville': 347,\n",
              " 'frère': 348,\n",
              " 'quils': 349,\n",
              " 'pouvons': 350,\n",
              " 'bureau': 351,\n",
              " 'voulait': 352,\n",
              " 'devez': 353,\n",
              " 'allé': 354,\n",
              " 'veuillez': 355,\n",
              " 'mis': 356,\n",
              " 'main': 357,\n",
              " 'connais': 358,\n",
              " 'jen': 359,\n",
              " 'jeune': 360,\n",
              " 'devriez': 361,\n",
              " 'voulez': 362,\n",
              " 'lettre': 363,\n",
              " 'chance': 364,\n",
              " 'grande': 365,\n",
              " 'trouve': 366,\n",
              " 'petite': 367,\n",
              " 'donné': 368,\n",
              " 'aide': 369,\n",
              " 'occupé': 370,\n",
              " 'vite': 371,\n",
              " 'tellement': 372,\n",
              " 'davantage': 373,\n",
              " 'davoir': 374,\n",
              " 'enfant': 375,\n",
              " 'coup': 376,\n",
              " 'passe': 377,\n",
              " 'acheter': 378,\n",
              " 'donner': 379,\n",
              " 'daccord': 380,\n",
              " 'bientôt': 381,\n",
              " 'confiance': 382,\n",
              " 'venu': 383,\n",
              " 'fini': 384,\n",
              " 'ensemble': 385,\n",
              " 'livres': 386,\n",
              " 'seulement': 387,\n",
              " 'sœur': 388,\n",
              " 'facile': 389,\n",
              " 'tête': 390,\n",
              " 'nos': 391,\n",
              " 'prends': 392,\n",
              " 'partie': 393,\n",
              " 'serai': 394,\n",
              " 'navons': 395,\n",
              " 'men': 396,\n",
              " 'demander': 397,\n",
              " 'déjeuner': 398,\n",
              " 'serait': 399,\n",
              " 'personnes': 400,\n",
              " 'mauvais': 401,\n",
              " 'froid': 402,\n",
              " 'allons': 403,\n",
              " 'près': 404,\n",
              " 'mangé': 405,\n",
              " 'prêt': 406,\n",
              " 'envie': 407,\n",
              " 'comprends': 408,\n",
              " 'erreur': 409,\n",
              " 'devrait': 410,\n",
              " 'jaurais': 411,\n",
              " 'nager': 412,\n",
              " 'colère': 413,\n",
              " 'pensestu': 414,\n",
              " 'nas': 415,\n",
              " 'vivre': 416,\n",
              " 'étais': 417,\n",
              " 'sous': 418,\n",
              " 'leau': 419,\n",
              " 'police': 420,\n",
              " 'contre': 421,\n",
              " 'yeux': 422,\n",
              " 'déteste': 423,\n",
              " 'oublié': 424,\n",
              " 'daller': 425,\n",
              " 'mettre': 426,\n",
              " 'alors': 427,\n",
              " 'questions': 428,\n",
              " 'lheure': 429,\n",
              " 'fatigué': 430,\n",
              " 'vue': 431,\n",
              " 'vieux': 432,\n",
              " 'photo': 433,\n",
              " 'essayé': 434,\n",
              " 'étiez': 435,\n",
              " 'heureuse': 436,\n",
              " 'pourrais': 437,\n",
              " 'parlé': 438,\n",
              " 'dernier': 439,\n",
              " 'attendre': 440,\n",
              " 'réponse': 441,\n",
              " 'fils': 442,\n",
              " 'comprendre': 443,\n",
              " 'possible': 444,\n",
              " 'meilleur': 445,\n",
              " 'table': 446,\n",
              " 'travaille': 447,\n",
              " 'réunion': 448,\n",
              " 'prix': 449,\n",
              " 'dur': 450,\n",
              " 'autant': 451,\n",
              " 'mois': 452,\n",
              " 'compte': 453,\n",
              " 'chat': 454,\n",
              " 'laissé': 455,\n",
              " 'film': 456,\n",
              " 'nourriture': 457,\n",
              " 'garçon': 458,\n",
              " 'vélo': 459,\n",
              " 'place': 460,\n",
              " 'laisser': 461,\n",
              " 'regarder': 462,\n",
              " 'minutes': 463,\n",
              " 'malade': 464,\n",
              " 'côté': 465,\n",
              " 'conduire': 466,\n",
              " 'navais': 467,\n",
              " 'belle': 468,\n",
              " 'écrit': 469,\n",
              " 'pensezvous': 470,\n",
              " 'voudrais': 471,\n",
              " 'sûre': 472,\n",
              " 'genre': 473,\n",
              " 'attention': 474,\n",
              " 'manière': 475,\n",
              " 'feu': 476,\n",
              " 'dix': 477,\n",
              " 'ferais': 478,\n",
              " 'puisse': 479,\n",
              " 'vient': 480,\n",
              " 'probablement': 481,\n",
              " '»': 482,\n",
              " 'parti': 483,\n",
              " 'amie': 484,\n",
              " 'entre': 485,\n",
              " 'médecin': 486,\n",
              " '«': 487,\n",
              " 'premier': 488,\n",
              " 'plutôt': 489,\n",
              " 'mot': 490,\n",
              " 'dici': 491,\n",
              " 'serais': 492,\n",
              " 'jignore': 493,\n",
              " 'choix': 494,\n",
              " 'exactement': 495,\n",
              " 'chemin': 496,\n",
              " 'regarde': 497,\n",
              " 'jadore': 498,\n",
              " 'verre': 499,\n",
              " 'dormir': 500,\n",
              " 'quelles': 501,\n",
              " 'lautre': 502,\n",
              " 'prochaine': 503,\n",
              " 'cheveux': 504,\n",
              " 'boire': 505,\n",
              " 'vois': 506,\n",
              " 'autres': 507,\n",
              " 'ainsi': 508,\n",
              " 'ça\\xa0': 509,\n",
              " 'perdre': 510,\n",
              " 'pays': 511,\n",
              " 'faim': 512,\n",
              " 'dehors': 513,\n",
              " 'pouvais': 514,\n",
              " 'décidé': 515,\n",
              " 'saistu': 516,\n",
              " 'devrions': 517,\n",
              " 'apprendre': 518,\n",
              " 'première': 519,\n",
              " 'plan': 520,\n",
              " 'vas': 521,\n",
              " 'loin': 522,\n",
              " 'leurs': 523,\n",
              " 'endroit': 524,\n",
              " 'beau': 525,\n",
              " 'tant': 526,\n",
              " 'navez': 527,\n",
              " 'musique': 528,\n",
              " 'commencé': 529,\n",
              " 'suppose': 530,\n",
              " 'savezvous': 531,\n",
              " 'désolée': 532,\n",
              " 'pourriezvous': 533,\n",
              " 'gare': 534,\n",
              " 'penser': 535,\n",
              " 'fenêtre': 536,\n",
              " 'dîner': 537,\n",
              " 'boulot': 538,\n",
              " 'savait': 539,\n",
              " 'laisse': 540,\n",
              " 'joue': 541,\n",
              " 'content': 542,\n",
              " 'appris': 543,\n",
              " 'lieu': 544,\n",
              " 'chaud': 545,\n",
              " 'cours': 546,\n",
              " 'essayer': 547,\n",
              " 'lun': 548,\n",
              " 'chanter': 549,\n",
              " 'âge': 550,\n",
              " 'payer': 551,\n",
              " 'mange': 552,\n",
              " 'quiconque': 553,\n",
              " 'gros': 554,\n",
              " 'vin': 555,\n",
              " 'surpris': 556,\n",
              " 'pouvait': 557,\n",
              " 'important': 558,\n",
              " 'allez': 559,\n",
              " 'entendre': 560,\n",
              " 'propos': 561,\n",
              " 'problèmes': 562,\n",
              " 'histoire': 563,\n",
              " 'professeur': 564,\n",
              " 'voyage': 565,\n",
              " 'répondre': 566,\n",
              " 'fumer': 567,\n",
              " 'avais': 568,\n",
              " 'jy': 569,\n",
              " 'argent': 570,\n",
              " 'sécurité': 571,\n",
              " 'rentrer': 572,\n",
              " 'plait': 573,\n",
              " 'japon': 574,\n",
              " 'arriver': 575,\n",
              " 'cadeau': 576,\n",
              " 'vont': 577,\n",
              " 'peine': 578,\n",
              " 'nouvelles': 579,\n",
              " 'laissemoi': 580,\n",
              " 'étions': 581,\n",
              " 'ferai': 582,\n",
              " 'visite': 583,\n",
              " 'peuvent': 584,\n",
              " 'décision': 585,\n",
              " 'ten': 586,\n",
              " 'maider': 587,\n",
              " 'rencontrer': 588,\n",
              " 'arrive': 589,\n",
              " 'lu': 590,\n",
              " 'lhomme': 591,\n",
              " 'année': 592,\n",
              " 'marcher': 593,\n",
              " 'changer': 594,\n",
              " 'reçu': 595,\n",
              " 'aije': 596,\n",
              " 'vit': 597,\n",
              " 'mains': 598,\n",
              " 'terminé': 599,\n",
              " 'terre': 600,\n",
              " 'parce': 601,\n",
              " 'complètement': 602,\n",
              " 'revoir': 603,\n",
              " 'chercher': 604,\n",
              " 'arrête': 605,\n",
              " 'quune': 606,\n",
              " 'derrière': 607,\n",
              " 'lundi': 608,\n",
              " 'immédiatement': 609,\n",
              " 'bois': 610,\n",
              " 'auparavant': 611,\n",
              " 'langue': 612,\n",
              " 'produit': 613,\n",
              " 'voulons': 614,\n",
              " 'route': 615,\n",
              " 'rapidement': 616,\n",
              " 'façon': 617,\n",
              " 'cause': 618,\n",
              " 'situation': 619,\n",
              " 'mauvaise': 620,\n",
              " 'commence': 621,\n",
              " 'aimé': 622,\n",
              " 'prochain': 623,\n",
              " 'devoirs': 624,\n",
              " 'chaussures': 625,\n",
              " 'pas\\xa0': 626,\n",
              " 'devenir': 627,\n",
              " 'neige': 628,\n",
              " 'blessé': 629,\n",
              " 'assis': 630,\n",
              " 'poser': 631,\n",
              " 'nombreux': 632,\n",
              " 'vers': 633,\n",
              " 'secret': 634,\n",
              " 'lait': 635,\n",
              " 'faisait': 636,\n",
              " 'deau': 637,\n",
              " 'cœur': 638,\n",
              " 'chanson': 639,\n",
              " 'ait': 640,\n",
              " 'parfois': 641,\n",
              " 'lintention': 642,\n",
              " 'fin': 643,\n",
              " 'cinq': 644,\n",
              " 'riche': 645,\n",
              " 'occupée': 646,\n",
              " 'mas': 647,\n",
              " 'classe': 648,\n",
              " 'aurait': 649,\n",
              " 'taider': 650,\n",
              " 'stupide': 651,\n",
              " 'tomber': 652,\n",
              " 'rue': 653,\n",
              " 'bruit': 654,\n",
              " 'appelé': 655,\n",
              " 'écrire': 656,\n",
              " 'làbas': 657,\n",
              " 'discuter': 658,\n",
              " 'quun': 659,\n",
              " 'rencontré': 660,\n",
              " 'plein': 661,\n",
              " 'laissezmoi': 662,\n",
              " 'dites': 663,\n",
              " 'bière': 664,\n",
              " 'santé': 665,\n",
              " 'étudier': 666,\n",
              " 'trente': 667,\n",
              " 'nimporte': 668,\n",
              " 'laquelle': 669,\n",
              " 'prenez': 670,\n",
              " 'navait': 671,\n",
              " 'naurais': 672,\n",
              " 'tort': 673,\n",
              " 'thomas': 674,\n",
              " 'nécessaire': 675,\n",
              " 'montrer': 676,\n",
              " 'gagner': 677,\n",
              " 'devant': 678,\n",
              " 'arrêté': 679,\n",
              " 'chapeau': 680,\n",
              " 'utiliser': 681,\n",
              " 'thé': 682,\n",
              " 'faisons': 683,\n",
              " 'certain': 684,\n",
              " 'vastu': 685,\n",
              " 'lannée': 686,\n",
              " 'commencer': 687,\n",
              " 'tennis': 688,\n",
              " 'montre': 689,\n",
              " 'j’ai': 690,\n",
              " 'guerre': 691,\n",
              " 'vêtements': 692,\n",
              " 'télévision': 693,\n",
              " 'numéro': 694,\n",
              " 'lune': 695,\n",
              " 'propre': 696,\n",
              " 'magasin': 697,\n",
              " 'celui': 698,\n",
              " 'vacances': 699,\n",
              " 'soleil': 700,\n",
              " 'dy': 701,\n",
              " 'anglais': 702,\n",
              " 'vouloir': 703,\n",
              " 'marché': 704,\n",
              " 'bébé': 705,\n",
              " 'veulent': 706,\n",
              " 'long': 707,\n",
              " 'soin': 708,\n",
              " 'laide': 709,\n",
              " 'aprèsmidi': 710,\n",
              " 'sorte': 711,\n",
              " 'retour': 712,\n",
              " 'droit': 713,\n",
              " 'font': 714,\n",
              " 'australie': 715,\n",
              " 'fier': 716,\n",
              " 'changé': 717,\n",
              " 'rappelle': 718,\n",
              " 'meilleure': 719,\n",
              " 'arrêter': 720,\n",
              " 'télé': 721,\n",
              " 'poste': 722,\n",
              " 'rouge': 723,\n",
              " 'rivière': 724,\n",
              " 'plaisir': 725,\n",
              " 'journal': 726,\n",
              " 'vieille': 727,\n",
              " 'mourir': 728,\n",
              " 'boîte': 729,\n",
              " 'affaires': 730,\n",
              " 'sen': 731,\n",
              " 'restaurant': 732,\n",
              " 'cas': 733,\n",
              " 'souviens': 734,\n",
              " 'plusieurs': 735,\n",
              " 'fasse': 736,\n",
              " 'bras': 737,\n",
              " 'savez': 738,\n",
              " 'nombreuses': 739,\n",
              " 'garder': 740,\n",
              " 'emploi': 741,\n",
              " 'devoir': 742,\n",
              " 'prête': 743,\n",
              " 'parc': 744,\n",
              " 'ordinateur': 745,\n",
              " 'fit': 746,\n",
              " 'donc': 747,\n",
              " 'vaut': 748,\n",
              " 'rire': 749,\n",
              " 'clé': 750,\n",
              " 'capable': 751,\n",
              " 'sac': 752,\n",
              " 'lumière': 753,\n",
              " 'dollars': 754,\n",
              " 'langlais': 755,\n",
              " 'jardin': 756,\n",
              " 'volé': 757,\n",
              " 'suite': 758,\n",
              " 'réparer': 759,\n",
              " 'cuisine': 760,\n",
              " 'pluie': 761,\n",
              " 'mont': 762,\n",
              " 'laccident': 763,\n",
              " 'carte': 764,\n",
              " '«\\xa0je': 765,\n",
              " 'nont': 766,\n",
              " 'fleurs': 767,\n",
              " 'vis': 768,\n",
              " 'pourraistu': 769,\n",
              " 'dentre': 770,\n",
              " 'dangereux': 771,\n",
              " 'c’est': 772,\n",
              " 'plage': 773,\n",
              " 'penses': 774,\n",
              " 'désormais': 775,\n",
              " 'voulu': 776,\n",
              " 'entrer': 777,\n",
              " 'dès': 778,\n",
              " 'compris': 779,\n",
              " 'voici': 780,\n",
              " 'préfère': 781,\n",
              " 'conseil': 782,\n",
              " 'sagit': 783,\n",
              " 'pleuvoir': 784,\n",
              " 'liste': 785,\n",
              " 'dispose': 786,\n",
              " 'affaire': 787,\n",
              " 'robe': 788,\n",
              " 'ouvert': 789,\n",
              " 'mots': 790,\n",
              " 'années': 791,\n",
              " 'tasse': 792,\n",
              " 'rapport': 793,\n",
              " 'chiens': 794,\n",
              " 'bizarre': 795,\n",
              " 'résoudre': 796,\n",
              " 'resté': 797,\n",
              " 'porter': 798,\n",
              " 'connaît': 799,\n",
              " 'regardé': 800,\n",
              " 'libre': 801,\n",
              " 'lhôpital': 802,\n",
              " 'pleurer': 803,\n",
              " 'nétais': 804,\n",
              " 'étudiants': 805,\n",
              " 'type': 806,\n",
              " 'accident': 807,\n",
              " 'savons': 808,\n",
              " 'rendu': 809,\n",
              " 'mesure': 810,\n",
              " 'manteau': 811,\n",
              " 'fou': 812,\n",
              " 'filles': 813,\n",
              " 'donnemoi': 814,\n",
              " 'règles': 815,\n",
              " 'pied': 816,\n",
              " 'minute': 817,\n",
              " 'marche': 818,\n",
              " 'intéressant': 819,\n",
              " 'garde': 820,\n",
              " 'finalement': 821,\n",
              " 'faute': 822,\n",
              " 'lequel': 823,\n",
              " 'gâteau': 824,\n",
              " 'finir': 825,\n",
              " 'eux': 826,\n",
              " 'dormi': 827,\n",
              " 'dautres': 828,\n",
              " 'cher': 829,\n",
              " 'surprise': 830,\n",
              " 'payé': 831,\n",
              " 'japprécie': 832,\n",
              " 'étrange': 833,\n",
              " 'suffisamment': 834,\n",
              " 'six': 835,\n",
              " 'prend': 836,\n",
              " 'hommes': 837,\n",
              " 'souhaite': 838,\n",
              " 'fonctionne': 839,\n",
              " 'telle': 840,\n",
              " 'dirait': 841,\n",
              " 'estelle': 842,\n",
              " 'devenu': 843,\n",
              " 'restez': 844,\n",
              " 'mets': 845,\n",
              " 'excuses': 846,\n",
              " 'moimême': 847,\n",
              " 'doute': 848,\n",
              " 'weekend': 849,\n",
              " 'tenir': 850,\n",
              " 'moindre': 851,\n",
              " 'arrêtez': 852,\n",
              " 'fermer': 853,\n",
              " 'autour': 854,\n",
              " 'amies': 855,\n",
              " 'suisje': 856,\n",
              " 'quatre': 857,\n",
              " 'dictionnaire': 858,\n",
              " 'cassé': 859,\n",
              " 'réussi': 860,\n",
              " 'poisson': 861,\n",
              " 'plupart': 862,\n",
              " 'gentil': 863,\n",
              " 'promets': 864,\n",
              " 'poids': 865,\n",
              " 'bonnes': 866,\n",
              " 'tombé': 867,\n",
              " 'rêve': 868,\n",
              " 'projet': 869,\n",
              " 'manque': 870,\n",
              " 'amoureux': 871,\n",
              " 'allezvous': 872,\n",
              " 'sérieux': 873,\n",
              " 'simple': 874,\n",
              " 'patron': 875,\n",
              " 'donne': 876,\n",
              " 'dismoi': 877,\n",
              " 'crains': 878,\n",
              " 'courant': 879,\n",
              " 'bibliothèque': 880,\n",
              " 'prison': 881,\n",
              " 'pire': 882,\n",
              " 'parapluie': 883,\n",
              " 'grosse': 884,\n",
              " 'fera': 885,\n",
              " 'fatiguée': 886,\n",
              " 'face': 887,\n",
              " 'femmes': 888,\n",
              " 'dimanche': 889,\n",
              " 'bu': 890,\n",
              " 'mavez': 891,\n",
              " 'lever': 892,\n",
              " 'furent': 893,\n",
              " 'danser': 894,\n",
              " 'court': 895,\n",
              " 'aurais': 896,\n",
              " 'my': 897,\n",
              " 'demanda': 898,\n",
              " 'bateau': 899,\n",
              " 'tour': 900,\n",
              " 'succès': 901,\n",
              " 'salle': 902,\n",
              " 'équipe': 903,\n",
              " 'noir': 904,\n",
              " 'lunettes': 905,\n",
              " 'daide': 906,\n",
              " 'coûte': 907,\n",
              " 'certains': 908,\n",
              " 'triste': 909,\n",
              " 'quitter': 910,\n",
              " 'promis': 911,\n",
              " 'certaine': 912,\n",
              " 'sommeil': 913,\n",
              " 'repas': 914,\n",
              " 'quels': 915,\n",
              " 'essaie': 916,\n",
              " 'danger': 917,\n",
              " 'compter': 918,\n",
              " 'serez': 919,\n",
              " 'rend': 920,\n",
              " 'pommes': 921,\n",
              " 'venue': 922,\n",
              " 'tué': 923,\n",
              " 'petitdéjeuner': 924,\n",
              " 'lhistoire': 925,\n",
              " 'hors': 926,\n",
              " 'allée': 927,\n",
              " 'doù': 928,\n",
              " 'appeler': 929,\n",
              " 'piano': 930,\n",
              " 'pas\\u202f': 931,\n",
              " 'mit': 932,\n",
              " 'cherche': 933,\n",
              " 'laissez': 934,\n",
              " 'chemise': 935,\n",
              " 'car': 936,\n",
              " 'pouvonsnous': 937,\n",
              " 'jignorais': 938,\n",
              " 'voyager': 939,\n",
              " 'viande': 940,\n",
              " 'gagné': 941,\n",
              " 'drôle': 942,\n",
              " 'coucher': 943,\n",
              " 'avocat': 944,\n",
              " 'sorti': 945,\n",
              " 'senti': 946,\n",
              " 'jeu': 947,\n",
              " 'ferme': 948,\n",
              " 'douleur': 949,\n",
              " 'courir': 950,\n",
              " 'connaître': 951,\n",
              " 'certaines': 952,\n",
              " 'aidé': 953,\n",
              " 'lintérieur': 954,\n",
              " 'impossible': 955,\n",
              " 'différence': 956,\n",
              " 'voudriezvous': 957,\n",
              " 'prudent': 958,\n",
              " 'mariage': 959,\n",
              " 'intelligent': 960,\n",
              " 'dessus': 961,\n",
              " 'bâtiment': 962,\n",
              " 'école': 963,\n",
              " 'message': 964,\n",
              " 'invité': 965,\n",
              " 'bons': 966,\n",
              " 'travers': 967,\n",
              " 'sontils': 968,\n",
              " 'rendezvous': 969,\n",
              " 'papier': 970,\n",
              " 'mari': 971,\n",
              " 'fermé': 972,\n",
              " 'également': 973,\n",
              " 'rappeler': 974,\n",
              " 'oncle': 975,\n",
              " 'lac': 976,\n",
              " 'garçons': 977,\n",
              " 'doisje': 978,\n",
              " 'celle': 979,\n",
              " 'attendu': 980,\n",
              " 'venez': 981,\n",
              " 'taxi': 982,\n",
              " 'seras': 983,\n",
              " 'radio': 984,\n",
              " 'japonais': 985,\n",
              " 'haut': 986,\n",
              " 'faitesvous': 987,\n",
              " 'voix': 988,\n",
              " 'sol': 989,\n",
              " 'réfléchir': 990,\n",
              " 'présenter': 991,\n",
              " 'ouvrir': 992,\n",
              " 'cheval': 993,\n",
              " 'allait': 994,\n",
              " 'photos': 995,\n",
              " 'linstant': 996,\n",
              " 'durant': 997,\n",
              " 'concert': 998,\n",
              " 'retourner': 999,\n",
              " ...}"
            ]
          },
          "metadata": {},
          "execution_count": 190
        }
      ],
      "source": [
        "word_to_index"
      ]
    },
    {
      "cell_type": "code",
      "source": [],
      "metadata": {
        "id": "miDtVf6dcu8-"
      },
      "execution_count": null,
      "outputs": []
    }
  ],
  "metadata": {
    "accelerator": "GPU",
    "colab": {
      "collapsed_sections": [
        "RBHsJDpiYDs7"
      ],
      "provenance": [],
      "machine_shape": "hm",
      "gpuType": "T4"
    },
    "kernelspec": {
      "display_name": "Python 3",
      "name": "python3"
    },
    "language_info": {
      "name": "python"
    }
  },
  "nbformat": 4,
  "nbformat_minor": 0
}